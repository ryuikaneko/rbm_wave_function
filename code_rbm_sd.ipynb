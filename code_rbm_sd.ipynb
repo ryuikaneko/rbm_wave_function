{
  "cells": [
    {
      "cell_type": "code",
      "execution_count": 16,
      "id": "0155005b-2500-4ad1-a04d-dbcebcbd1da1",
      "metadata": {
        "id": "0155005b-2500-4ad1-a04d-dbcebcbd1da1"
      },
      "outputs": [],
      "source": [
        "# RBM solver using steepest descent (SD)"
      ]
    },
    {
      "cell_type": "code",
      "execution_count": 17,
      "id": "04caf96b",
      "metadata": {
        "id": "04caf96b"
      },
      "outputs": [],
      "source": [
        "import numpy as np\n",
        "import copy\n",
        "import matplotlib\n",
        "import matplotlib.pyplot as plt\n",
        "from numba import jit"
      ]
    },
    {
      "cell_type": "code",
      "execution_count": 18,
      "id": "665ccaea",
      "metadata": {
        "id": "665ccaea"
      },
      "outputs": [],
      "source": [
        "## https://stackoverflow.com/questions/26560726/python-binomial-coefficient\n",
        "@jit(nopython=True)\n",
        "def binomial(n,r):\n",
        "    p = 1\n",
        "    for i in range(1,min(r,n-r) + 1):\n",
        "        p *= n\n",
        "        p //= i\n",
        "        n -= 1\n",
        "    return p"
      ]
    },
    {
      "cell_type": "code",
      "execution_count": 19,
      "id": "cc1cb51f",
      "metadata": {
        "id": "cc1cb51f"
      },
      "outputs": [],
      "source": [
        "## https://web.archive.org/web/20190109000030/http://www.hackersdelight.org/hdcodetxt/snoob.c.txt\n",
        "@jit(nopython=True)\n",
        "def get_next_same_nup_state(state):\n",
        "    next = 0\n",
        "    if(state>0):\n",
        "        smallest = state & -(state)\n",
        "        ripple = state + smallest\n",
        "        ones = state ^ ripple\n",
        "        ones = (ones >> 2) // smallest\n",
        "        next = ripple | ones\n",
        "    return next"
      ]
    },
    {
      "cell_type": "code",
      "execution_count": 20,
      "id": "48d37570",
      "metadata": {
        "id": "48d37570"
      },
      "outputs": [],
      "source": [
        "def num2bit(state,L):\n",
        "    return np.binary_repr(state,L)\n",
        "\n",
        "def bit2num(bit):\n",
        "    return int(bit,2)"
      ]
    },
    {
      "cell_type": "code",
      "execution_count": 21,
      "id": "9a1d3b17",
      "metadata": {
        "id": "9a1d3b17"
      },
      "outputs": [],
      "source": [
        "def make_xlist(L,nup,D):\n",
        "    state = (1<<(L-nup))-1\n",
        "    xlist = []\n",
        "    for i in range(D):\n",
        "#        print(i,state,num2bit(state,L))\n",
        "        xlist.append([int(x)*2-1 for x in str(num2bit(state,L))])\n",
        "        state = get_next_same_nup_state(state)\n",
        "    return np.array(xlist)"
      ]
    },
    {
      "cell_type": "code",
      "execution_count": 22,
      "id": "f7c7f30b",
      "metadata": {
        "id": "f7c7f30b"
      },
      "outputs": [],
      "source": [
        "## Subroutine for calculating theta \n",
        "##  see Eq.(S9) in Supplementary Materials, Carleo and Troyer, Science (2017)\n",
        "##  \\theta_j = \\sum_i  W_ij * \\sigma_i \n",
        "##\n",
        "## input: sigma[N]\n",
        "## output: theta[M]\n",
        "@jit(nopython=True)\n",
        "def calc_theta(\n",
        "    sigma, theta,\n",
        "    alpha, N, M, Wirr,\n",
        "    ):\n",
        "#\n",
        "    W = np.zeros((M,N),dtype=np.float64)\n",
        "    j = 0\n",
        "    for f in range(alpha):## loop for independent neuron\n",
        "        for jj in range(1,N+1):## we have N copies of hidden units because of translational symmetry\n",
        "            j += 1\n",
        "            theta[j-1] = 0.0\n",
        "            for i in range(1,N+1):\n",
        "                ## set W_ij using translational symmetry\n",
        "                iw = i - jj\n",
        "                if iw<0:\n",
        "                    iw += N\n",
        "                W[j-1,i-1] = Wirr[f-1,iw]\n",
        "                ## calculate theta\n",
        "                theta[j-1] += W[j-1,i-1] * sigma[i-1]\n",
        "    return 0"
      ]
    },
    {
      "cell_type": "code",
      "execution_count": 23,
      "id": "c000356e",
      "metadata": {
        "id": "c000356e"
      },
      "outputs": [],
      "source": [
        "## input: M ## number of hidden units\n",
        "## input: theta[M] ## \\theta_j = \\sum_i  W_ij * \\sigma_i\n",
        "## output: psi_x ## <x|psi> (|x> = |sigma_1, sigma_2, ..., sigma_N>) \n",
        "@jit(nopython=True)\n",
        "def calc_amplitude_RBM(M,theta,psi_x,ix):\n",
        "    ## When bias terms are zero, wave function is given by \n",
        "    ##  psi_x = \\prod_j 2 * cosh(\\theta_j)\n",
        "    tmp = 1.0\n",
        "    for j in range(M):\n",
        "        tmp = tmp * np.cosh(theta[j]) ## neglect irrelevant factor of 2\n",
        "    psi_x[ix] = tmp\n",
        "    return 0"
      ]
    },
    {
      "cell_type": "code",
      "execution_count": 24,
      "id": "f9339085",
      "metadata": {
        "id": "f9339085"
      },
      "outputs": [],
      "source": [
        "@jit(nopython=True)\n",
        "def RBM_solver(\n",
        "    alpha, Nstep, delta_tau,\n",
        "    L, D,\n",
        "    xlist,\n",
        "    ):\n",
        "#\n",
        "    N  = L          # number of visible units \n",
        "    M  = alpha * N  # number of hidden units\n",
        "    Nv = alpha * N  # number of variational parameters\n",
        "    theta = np.zeros(M,dtype=np.float64)\n",
        "    thetap = np.zeros(M,dtype=np.float64)\n",
        "    gvec = np.zeros(Nv,dtype=np.float64)\n",
        "    Ovec = np.zeros(Nv,dtype=np.float64)\n",
        "    Ovec_loc_x = np.zeros(Nv,dtype=np.float64)\n",
        "    Es = np.zeros(Nstep,dtype=np.float64)\n",
        "#\n",
        "## initialize W (variational parameters)   \n",
        "## put random numbers between -0.01 and 0.01\n",
        "## [original code: Wirr(0:N-1,alpha)]\n",
        "    rnd_amp = 0.01\n",
        "##----\n",
        "## without numba: read file \n",
        "#    Wirr = np.loadtxt(\"_input_initial_W.txt\")[:,2].reshape(alpha,N)\n",
        "#    print(Wirr)\n",
        "## without numba\n",
        "#    rng = np.random.default_rng(12345)\n",
        "#    Wirr = rng.uniform(-rnd_amp,rnd_amp,(alpha,N))\n",
        "#    print(Wirr)\n",
        "## with numba\n",
        "    np.random.seed(1234567)\n",
        "    Wirr = np.random.uniform(-rnd_amp,rnd_amp,(alpha,N))\n",
        "#    print(Wirr)\n",
        "##----\n",
        "    init_f_iw_Wirr = [[f,iw,Wirr[f,iw]] for f in range(alpha) for iw in range(N)]\n",
        "#    np.savetxt(\"initial_W.txt\",f_iw_Wirr,\n",
        "#        header=\"index for interaction (iw), index for independent neurons (f), irreducible interaction Wirr(f,iw)\")\n",
        "#\n",
        "## initial wave function\n",
        "    psi = np.zeros(D,dtype=np.float64)\n",
        "    psip = np.zeros(D,dtype=np.float64)\n",
        "    for ix in range(D):\n",
        "        calc_theta(xlist[ix],theta,alpha,N,M,Wirr)\n",
        "        calc_amplitude_RBM(M,theta,psi,ix)\n",
        "    psi = psi/np.linalg.norm(psi)\n",
        "#    print(psi)\n",
        "#    init_psi = copy.deepcopy(psi) ## not working with numba\n",
        "    init_psi = np.zeros(D,dtype=np.float64)\n",
        "    init_psi[:] = psi[:]\n",
        "#    print(init_psi)\n",
        "#    np.savetxt(\"initial_wf.txt\",psi,\n",
        "#        header=\"initial wave function psi(x), order of x follows that in Fock_state_list.txt\")\n",
        "#\n",
        "## start optimization\n",
        "    for iteration in range(Nstep):\n",
        "        gvec = np.zeros(Nv,dtype=np.float64)\n",
        "        Ovec = np.zeros(Nv,dtype=np.float64)\n",
        "        E = 0.0\n",
        "        for ix in range(D):\n",
        "            ## calculate wave function psi(x)\n",
        "            calc_theta(xlist[ix],theta,alpha,N,M,Wirr)\n",
        "            calc_amplitude_RBM(M,theta,psi,ix)\n",
        "            p_x = psi[ix]**2\n",
        "            ## calculate Eloc(x) and take sum over x for E\n",
        "            ## H = J ( SzSz - SxSx - SySy ) after the gauge transformation\n",
        "            Eloc_x = 0.0\n",
        "            for i1 in range(N):\n",
        "                i2 = (i1+1)%N\n",
        "                ## SzSz\n",
        "                Eloc_x += xlist[ix,i1] * xlist[ix,i2]\n",
        "                ## - SxSx - SySy\n",
        "                if xlist[ix,i1] != xlist[ix,i2]:\n",
        "                    xlist[ix,i1] *= -1\n",
        "                    xlist[ix,i2] *= -1\n",
        "                    calc_theta(xlist[ix],thetap,alpha,N,M,Wirr)\n",
        "#                    print(thetap)\n",
        "                    calc_amplitude_RBM(M,thetap,psip,ix)\n",
        "                    Eloc_x -= 2.0*psip[ix]/psi[ix]\n",
        "#                    print(psi[ix],psip[ix],2.0*psip[ix]/psi[ix],Eloc_x)\n",
        "                    xlist[ix,i1] *= -1\n",
        "                    xlist[ix,i2] *= -1\n",
        "            E += p_x * Eloc_x\n",
        "            ## calculate Ovec_loc_x\n",
        "            k = 0\n",
        "            for f in range(1,alpha+1):\n",
        "                for iw in range(N):\n",
        "                    k += 1\n",
        "                    Ovec_loc_x[k-1] = 0.0\n",
        "                    for jj in range(1,N+1):\n",
        "                        j = (f-1)*N + jj\n",
        "                        i = jj + iw\n",
        "                        if i > N:\n",
        "                            i -= N\n",
        "                        Ovec_loc_x[k-1] += np.tanh(theta[j-1])*xlist[ix,i-1]\n",
        "            if k!= Nv:\n",
        "                print(\"# error: k!=Nv\",k,Nv)\n",
        "                break\n",
        "            ## summation over x for gvec and ovec\n",
        "            for k in range(Nv):\n",
        "                gvec[k] += 2.0 * p_x * Eloc_x * Ovec_loc_x[k]\n",
        "                Ovec[k] += p_x * Ovec_loc_x[k]\n",
        "        ## Dividing by <psi|psi> (=norm), we get\n",
        "        ##  gvec(k) = 2 <H*O_k>\n",
        "        ##  Ovec(k) = <O_k>\n",
        "        ##  E = <H>\n",
        "        norm = np.linalg.norm(psi)**2\n",
        "#        print(norm)\n",
        "        gvec /= norm\n",
        "        Ovec /= norm\n",
        "        E /= norm\n",
        "#        print(iteration,E)\n",
        "        Es[iteration] = E\n",
        "        ## gvec(k) = 2 <H*O_k> - 2 <H> <O_k>\n",
        "        for k in range(Nv):\n",
        "            gvec[k] -= 2.0 * E * Ovec[k]\n",
        "        ## update W (variational parameters)\n",
        "        delW_max_eps = 0.003\n",
        "        delW_max = np.max(np.abs(delta_tau*gvec))\n",
        "#        print(delW_max)\n",
        "#        print(Wirr)\n",
        "        k = 0\n",
        "        for f in range(alpha):\n",
        "            for iw in range(N):\n",
        "                k += 1\n",
        "                if delW_max > delW_max_eps:\n",
        "                    Wirr[f,iw] -= delta_tau * gvec[k-1] * delW_max_eps/delW_max\n",
        "                else:\n",
        "                    Wirr[f,iw] -= delta_tau * gvec[k-1]\n",
        "#        print(Wirr)\n",
        "#        print()\n",
        "#        print(gvec)\n",
        "#\n",
        "## optimzed W\n",
        "    opt_f_iw_Wirr = [[f,iw,Wirr[f,iw]] for f in range(alpha) for iw in range(N)]\n",
        "#\n",
        "## optimzed wave function\n",
        "    for ix in range(D):\n",
        "        calc_theta(xlist[ix],theta,alpha,N,M,Wirr)\n",
        "        calc_amplitude_RBM(M,theta,psi,ix)\n",
        "    psi = psi/np.linalg.norm(psi)\n",
        "#    print(psi)\n",
        "#\n",
        "    return init_f_iw_Wirr, init_psi, opt_f_iw_Wirr, psi, Es"
      ]
    },
    {
      "cell_type": "code",
      "execution_count": 25,
      "id": "32548962",
      "metadata": {
        "id": "32548962"
      },
      "outputs": [],
      "source": [
        "def main():\n",
        "    # hidden variable density, number of optimization step, delta_tau\n",
        "    alpha = 1\n",
        "    Nstep = 5000\n",
        "    #Nstep = 1000\n",
        "    delta_tau = 0.001\n",
        "    print(\"alpha\",alpha)\n",
        "    print(\"Nstep\",Nstep)\n",
        "    print(\"delta_tau\",delta_tau)\n",
        "\n",
        "    # system size, dimension of Hilbert space (total_Sz=0 sector)\n",
        "    L = 8\n",
        "    nup = L//2\n",
        "    D = binomial(L,nup)\n",
        "    print(\"L\",L)\n",
        "    print(\"D\",D)\n",
        "\n",
        "    # make xlist for total_Sz=0 sector\n",
        "    xlist = make_xlist(L,nup,D)\n",
        "    #print(\"xlist\",xlist)\n",
        "    print(\"xlist.shape\",xlist.shape)\n",
        "    #print(\"xlist[D-1]\",xlist[D-1])\n",
        "    #print(\"xlist[:,0]\",xlist[:,0])\n",
        "    np.savetxt(\"Fock_state_list.txt\",xlist,fmt=\"%i\",\n",
        "        header=\"system size, dimension of Hibert space: \"+\"{}, \".format(L)+\"{}\".format(D))\n",
        "\n",
        "    init_f_iw_Wirr, init_psi, opt_f_iw_Wirr, opt_psi, Es = RBM_solver(alpha,Nstep,delta_tau,L,D,xlist)\n",
        "    #print(Es)\n",
        "    print(\"energy\",Es[Nstep-1])\n",
        "    np.savetxt(\"energy.txt\",Es)\n",
        "    np.savetxt(\"initial_W.txt\",init_f_iw_Wirr,\n",
        "        header=\"index for interaction (iw), index for independent neurons (f), irreducible interaction Wirr(f,iw)\")\n",
        "    np.savetxt(\"initial_wf.txt\",init_psi,\n",
        "        header=\"initial wave function psi(x), order of x follows that in Fock_state_list.txt\")\n",
        "    np.savetxt(\"optimized_W.txt\",opt_f_iw_Wirr,\n",
        "        header=\"index for interaction (iw), index for independent neurons (f), irreducible interaction Wirr(f,iw)\")\n",
        "    np.savetxt(\"optimized_wf.txt\",opt_psi,\n",
        "        header=\"optimized wave function psi(x), order of x follows that in Fock_state_list.txt\")\n",
        "\n",
        "    plt.xlabel(\"Nstep\")\n",
        "    plt.ylabel(\"E\")\n",
        "    plt.plot(np.arange(Nstep),Es)\n",
        "    plt.show()\n",
        "    plt.close()\n",
        "\n",
        "#    exact_psi = np.loadtxt(\"ref_exact_ground_state.txt\")\n",
        "    exact_psi = np.array([0.007469660603699186,0.03474208920086307,0.05454485719432777,0.03474208920086304,0.007469660603699169,0.05454485719432794,0.16440627939276697,0.1371338507956024,0.034742089200862976,0.09005865420497404,0.16440627939276575,0.054544857194327404,0.05454485719432748,0.03474208920086299,0.007469660603699175,0.03474208920086324,0.13713385079560247,0.16440627939276584,0.05454485719432743,0.16440627939276606,0.39829673718725694,0.16440627939276561,0.16440627939276564,0.13713385079560225,0.03474208920086302,0.05454485719432754,0.1644062793927659,0.0900586542049739,0.13713385079560225,0.16440627939276675,0.05454485719432777,0.0347420892008631,0.05454485719432794,0.034742089200863156,0.007469660603699187,0.007469660603699139,0.03474208920086305,0.05454485719432737,0.03474208920086294,0.05454485719432746,0.16440627939276553,0.1371338507956021,0.09005865420497378,0.16440627939276647,0.05454485719432773,0.034742089200863045,0.13713385079560228,0.16440627939276684,0.16440627939276672,0.39829673718726066,0.16440627939276675,0.05454485719432781,0.1644062793927671,0.13713385079560253,0.03474208920086305,0.007469660603699138,0.03474208920086321,0.054544857194327875,0.05454485719432788,0.16440627939276714,0.09005865420497398,0.03474208920086324,0.1371338507956028,0.16440627939276609,0.05454485719432754,0.007469660603699172,0.034742089200863115,0.05454485719432755,0.03474208920086305,0.007469660603699139])\n",
        "    plt.xlabel(\"basis index\")\n",
        "    plt.ylabel(\"amplitude\")\n",
        "    plt.plot(np.arange(D),exact_psi,label=\"exact\")\n",
        "    plt.plot(np.arange(D),init_psi,label=\"init\")\n",
        "    plt.plot(np.arange(D),opt_psi,label=\"opt\",marker=\"o\",ls=\"none\")\n",
        "    plt.legend()\n",
        "    plt.show()\n",
        "    plt.close()"
      ]
    },
    {
      "cell_type": "code",
      "execution_count": 26,
      "id": "a1a9021b-44f7-42bf-a9e3-ab9eb12aea2b",
      "metadata": {
        "colab": {
          "base_uri": "https://localhost:8080/",
          "height": 668
        },
        "id": "a1a9021b-44f7-42bf-a9e3-ab9eb12aea2b",
        "outputId": "17a08f03-6528-49b0-de1b-6e32899ac06d"
      },
      "outputs": [
        {
          "output_type": "stream",
          "name": "stdout",
          "text": [
            "alpha 1\n",
            "Nstep 5000\n",
            "delta_tau 0.001\n",
            "L 8\n",
            "D 70\n",
            "xlist.shape (70, 8)\n",
            "energy -14.604142284384855\n"
          ]
        },
        {
          "output_type": "display_data",
          "data": {
            "text/plain": [
              "<Figure size 432x288 with 1 Axes>"
            ],
            "image/png": "[encoded data removed]"
          },
          "metadata": {
            "needs_background": "light"
          }
        },
        {
          "output_type": "display_data",
          "data": {
            "text/plain": [
              "<Figure size 432x288 with 1 Axes>"
            ],
            "image/png": "[encoded data removed]"
          },
          "metadata": {
            "needs_background": "light"
          }
        }
      ],
      "source": [
        "main()"
      ]
    },
    {
      "cell_type": "code",
      "execution_count": 26,
      "id": "33a805d3-0d8c-458b-bea5-165b6550b8a4",
      "metadata": {
        "id": "33a805d3-0d8c-458b-bea5-165b6550b8a4"
      },
      "outputs": [],
      "source": []
    }
  ],
  "metadata": {
    "kernelspec": {
      "display_name": "Python 3 (ipykernel)",
      "language": "python",
      "name": "python3"
    },
    "language_info": {
      "codemirror_mode": {
        "name": "ipython",
        "version": 3
      },
      "file_extension": ".py",
      "mimetype": "text/x-python",
      "name": "python",
      "nbconvert_exporter": "python",
      "pygments_lexer": "ipython3",
      "version": "3.8.12"
    },
    "colab": {
      "provenance": []
    }
  },
  "nbformat": 4,
  "nbformat_minor": 5
}